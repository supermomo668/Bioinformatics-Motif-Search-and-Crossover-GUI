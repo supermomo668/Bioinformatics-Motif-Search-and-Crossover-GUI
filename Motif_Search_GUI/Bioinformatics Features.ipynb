{
 "cells": [
  {
   "cell_type": "code",
   "execution_count": 1,
   "metadata": {},
   "outputs": [],
   "source": [
    "import numpy as np"
   ]
  },
  {
   "cell_type": "code",
   "execution_count": 3,
   "metadata": {},
   "outputs": [],
   "source": [
    "def RandomMotifs(Dna, k, t):\n",
    "    import random\n",
    "    return [text[random.randint(0,len(text)-k):][0:k] for text in Dna]\n",
    "\n",
    "def Consensus(Motifs):\n",
    "    count,k = CountWithPseudocounts(Motifs)\n",
    "    consensus = \"\"\n",
    "    for j in range(k):\n",
    "        m = 0\n",
    "        frequentSymbol = \"\"\n",
    "        for symbol in \"ACGT\":\n",
    "            if count[symbol][j] > m:\n",
    "                m = count[symbol][j]\n",
    "                frequentSymbol = symbol\n",
    "        consensus += frequentSymbol\n",
    "    return consensus\n",
    "\n",
    "def Score(Motifs):\n",
    "    count,k = CountWithPseudocounts(Motifs)\n",
    "    median_motif = Consensus(Motifs)\n",
    "    score = 0;\n",
    "    #print(count)\n",
    "    for i in range(k):\n",
    "        for j in 'ACGT':\n",
    "            if j != median_motif[i]:\n",
    "                    score += count[j][i]\n",
    "    return score\n",
    "\n",
    "def Pr(Text, Profile):\n",
    "    prob = 1\n",
    "    for i in range(len(Text)):\n",
    "        prob *= Profile[Text[i]][i]\n",
    "    return prob\n",
    "\n",
    "def CountWithPseudocounts(Motifs):   # Count Parallel Motifs Content (get Median)\n",
    "    count = {} # initializing the count dictionary\n",
    "    k = len(Motifs[0]); t = len(Motifs);\n",
    "    for symbol in \"ACGT\":\n",
    "        count[symbol] = []\n",
    "        count[symbol] = list(np.ones(k,dtype = 'int'))\n",
    "    for i in range(t):\n",
    "        for j in range(k):\n",
    "            symbol = Motifs[i][j]\n",
    "            count[symbol][j] += 1\n",
    "    return count, k\n",
    "\n",
    "import math as m\n",
    "def ProfileWithPseudocounts(Motifs):\n",
    "    count, k = CountWithPseudocounts(Motifs)\n",
    "    num_seq = len(Motifs)+4; entropy = 0;\n",
    "    for i in range(k):\n",
    "        for j in 'ACGT':\n",
    "            count[j][i] = float((float(count[j][i])/float(num_seq)))\n",
    "        f = max(count[j][i] for j in 'ACGT')\n",
    "        entropy += -f*m.log(f)\n",
    "    return count, entropy\n",
    "\n",
    "def ProfileMostProbableKmer(Text, k, Profile):\n",
    "    probs = []; topprobs_seq = [];\n",
    "    for i in range(len(Text)-k+1):\n",
    "        probs.append(Pr(Text[i:i+k],Profile))\n",
    "    #print(probs)\n",
    "    for j in range(len(probs)):\n",
    "        if probs[j] == max(probs):\n",
    "            topprobs_seq=Text[j:j+k]\n",
    "            #print(max(probs))\n",
    "    #topprob_index = probs.index(topprob)\n",
    "        if max(probs) == 0:\n",
    "            topprobs_seq = Text[0:k]\n",
    "    return topprobs_seq\n",
    "\n",
    "def Motifs(Profile, Dna,k):\n",
    "    motifs = []\n",
    "    for i in range(len(Dna)):\n",
    "        mot = ProfileMostProbableKmer(Dna[i],k,Profile);\n",
    "        motifs.append(mot)\n",
    "    return motifs\n",
    "\n",
    "#### N is the number of reiteration\n",
    "def RandomizedMotifSearch(Dna, k_iter, N):\n",
    "    k_bestmotifs = []; k_scores = []; k_entropy = [];\n",
    "    for k in range(2, k_iter):\n",
    "        t = len(Dna); M = RandomMotifs(Dna, k, t); BestMotifs = M\n",
    "        for i in range(N):\n",
    "            Motifprofile, entropy = ProfileWithPseudocounts(M)\n",
    "            #print(Profile)\n",
    "            M = Motifs(Motifprofile, Dna,k);\n",
    "            this_score = Score(M)\n",
    "            if this_score < Score(BestMotifs):\n",
    "                BestMotifs = M\n",
    "                BestP, Bestentropy = Motifprofile, entropy\n",
    "        k_bestmotifs.append(BestMotifs)\n",
    "        k_scores.append(this_score / k)\n",
    "        k_entropy.append(Bestentropy / k)\n",
    "    return k_bestmotifs, k_scores, k_entropy\n",
    "\n",
    "################ Gibb's\n",
    "def GreedyMotifSearchWithPseudocounts(Dna, k_iter):\n",
    "    k_bestmotifs = []; k_scores = []; k_entropy = [];\n",
    "    for k in range(1, k_iter):\n",
    "        t = len(Dna); BestMotifs = []; loop_scores = [];\n",
    "        for i in range(0, len(Dna)):\n",
    "            BestMotifs.append(Dna[i][0:k])\n",
    "\n",
    "        for i in range(len(Dna[0]) - k + 1):\n",
    "            Motifs = []\n",
    "            Motifs.append(Dna[0][i:i + k])\n",
    "            # print(Motifs)\n",
    "            for j in range(1, len(Dna)):\n",
    "                P, entropy = ProfileWithPseudocounts(Motifs[0:j])\n",
    "                Motifs.append(ProfileMostProbableKmer(Dna[j], k, P))\n",
    "            # print(Motifs)\n",
    "            this_score = Score(Motifs)\n",
    "            if this_score < Score(BestMotifs):\n",
    "                BestMotifs = Motifs\n",
    "                loop_scores.append(this_score)\n",
    "                BestP, entropy = P, entropy\n",
    "        k_bestmotifs.append(BestMotifs)\n",
    "        k_scores.append(loop_scores[-1])\n",
    "        k_entropy.append(entropy/k)\n",
    "    return k_bestmotifs, k_scores, k_entropy\n",
    "Dna = ['CGCCCCTCTCGGGGGTGTTCAGTAAACGGCCA','GGGCGAGGTATGTGTAAGTGCCAAGGTGCCAG',\n",
    "       'TAGTACCGAGACCGAAAGAAGTATACAGGCGT','TAGATCAAGTTTCAGGTGCACGTCGGTGAACC',\n",
    "       'AATCCACCAGCTCCACGTGCAATGTTGGCCTA']\n",
    "k = 16;\n",
    "\n",
    "k_BestMotifs, scores, entropy = GreedyMotifSearchWithPseudocounts(Dna, k)"
   ]
  },
  {
   "cell_type": "code",
   "execution_count": 4,
   "metadata": {},
   "outputs": [
    {
     "name": "stdout",
     "output_type": "stream",
     "text": [
      "[['C', 'C', 'C', 'C', 'C'], ['CG', 'CG', 'CG', 'CG', 'CG'], ['CAG', 'CAG', 'CAG', 'CAG', 'CAG'], ['GGTG', 'GGTG', 'GGCG', 'GGTG', 'GTTG'], ['GGGTG', 'AGGTG', 'AGGCG', 'AGGTG', 'ACGTG'], ['GGGGTG', 'AAGGTG', 'CAGGCG', 'CAGGTG', 'CACGTG'], ['CTCGGGG', 'CAAGGTG', 'ACAGGCG', 'TCAGGTG', 'CCACGTG'], ['TCTCGGGG', 'CCAAGGTG', 'TACAGGCG', 'TTCAGGTG', 'TCCACGTG'], ['TCTCGGGGG', 'CCAAGGTGC', 'TACAGGCGT', 'TTCAGGTGC', 'TCCACGTGC'], ['GGGTGTTCAG', 'AAGTGCCAAG', 'AAGTATACAG', 'AAGTTTCAGG', 'ACGTGCAATG'], ['CCTCTCGGGGG', 'TGCCAAGGTGC', 'TATACAGGCGT', 'GTTTCAGGTGC', 'GCTCCACGTGC'], ['TTCAGTAAACGG', 'ATGTGTAAGTGC', 'AAGTATACAGGC', 'AGGTGCACGTCG', 'AGCTCCACGTGC'], ['GTGTTCAGTAAAC', 'GTGCCAAGGTGCC', 'GAAAGAAGTATAC', 'GTTTCAGGTGCAC', 'GTGCAATGTTGGC'], ['GGTGTTCAGTAAAC', 'AGTGCCAAGGTGCC', 'CGAAAGAAGTATAC', 'AGTTTCAGGTGCAC', 'CGTGCAATGTTGGC'], ['CTCGGGGGTGTTCAG', 'TGTGTAAGTGCCAAG', 'GAAAGAAGTATACAG', 'GTTTCAGGTGCACGT', 'GCTCCACGTGCAATG']]\n",
      "[3, 6, 9, 14, 18, 23, 29, 33, 38, 44, 50, 56, 60, 66, 72]\n",
      "[0.29375226827858475, 0.29375226827858475, 0.3184385021455223, 0.3386776046794818, 0.34025680179958, 0.34130959987964543, 0.3345156953652082, 0.33602293222955376, 0.3419146452572502, 0.3476626719596613, 0.3446923970431474, 0.3466189447795016, 0.34824910055641667, 0.3541972439936492, 0.3536890004127374]\n"
     ]
    }
   ],
   "source": [
    "print(k_BestMotifs)\n",
    "print(scores)\n",
    "print(entropy)"
   ]
  },
  {
   "cell_type": "code",
   "execution_count": 5,
   "metadata": {},
   "outputs": [],
   "source": [
    "k_BestMotifs, scores, entropy = RandomizedMotifSearch(Dna, k,10)"
   ]
  },
  {
   "cell_type": "code",
   "execution_count": 6,
   "metadata": {},
   "outputs": [
    {
     "name": "stdout",
     "output_type": "stream",
     "text": [
      "Scores: \n",
      "[3.0, 3.6666666666666665, 4.0, 5.2, 4.666666666666667, 4.857142857142857, 5.0, 4.888888888888889, 5.1, 4.909090909090909, 5.083333333333333, 5.461538461538462, 5.428571428571429, 4.866666666666666] \n",
      "entropy: \n",
      "[0.3434807882986617, 0.3190905495564777, 0.3294212695247281, 0.3582729064117314, 0.3576645491158188, 0.35888448441680226, 0.35907560254338694, 0.3554614408349932, 0.3638878295054137, 0.3563618023976271, 0.3657215406566013, 0.3375891144522474, 0.3134756062770868, 0.35975850299007733]\n"
     ]
    }
   ],
   "source": [
    "print('Scores: \\n{} '.format(scores))\n",
    "print('entropy: \\n{}'.format(entropy))"
   ]
  },
  {
   "cell_type": "code",
   "execution_count": 7,
   "metadata": {},
   "outputs": [
    {
     "data": {
      "text/html": [
       "<div>\n",
       "<style scoped>\n",
       "    .dataframe tbody tr th:only-of-type {\n",
       "        vertical-align: middle;\n",
       "    }\n",
       "\n",
       "    .dataframe tbody tr th {\n",
       "        vertical-align: top;\n",
       "    }\n",
       "\n",
       "    .dataframe thead th {\n",
       "        text-align: right;\n",
       "    }\n",
       "</style>\n",
       "<table border=\"1\" class=\"dataframe\">\n",
       "  <thead>\n",
       "    <tr style=\"text-align: right;\">\n",
       "      <th></th>\n",
       "      <th>scores</th>\n",
       "      <th>entropy</th>\n",
       "    </tr>\n",
       "  </thead>\n",
       "  <tbody>\n",
       "    <tr>\n",
       "      <th>0</th>\n",
       "      <td>3.000000</td>\n",
       "      <td>0.343481</td>\n",
       "    </tr>\n",
       "    <tr>\n",
       "      <th>1</th>\n",
       "      <td>3.666667</td>\n",
       "      <td>0.319091</td>\n",
       "    </tr>\n",
       "    <tr>\n",
       "      <th>2</th>\n",
       "      <td>4.000000</td>\n",
       "      <td>0.329421</td>\n",
       "    </tr>\n",
       "    <tr>\n",
       "      <th>3</th>\n",
       "      <td>5.200000</td>\n",
       "      <td>0.358273</td>\n",
       "    </tr>\n",
       "    <tr>\n",
       "      <th>4</th>\n",
       "      <td>4.666667</td>\n",
       "      <td>0.357665</td>\n",
       "    </tr>\n",
       "    <tr>\n",
       "      <th>5</th>\n",
       "      <td>4.857143</td>\n",
       "      <td>0.358884</td>\n",
       "    </tr>\n",
       "    <tr>\n",
       "      <th>6</th>\n",
       "      <td>5.000000</td>\n",
       "      <td>0.359076</td>\n",
       "    </tr>\n",
       "    <tr>\n",
       "      <th>7</th>\n",
       "      <td>4.888889</td>\n",
       "      <td>0.355461</td>\n",
       "    </tr>\n",
       "    <tr>\n",
       "      <th>8</th>\n",
       "      <td>5.100000</td>\n",
       "      <td>0.363888</td>\n",
       "    </tr>\n",
       "    <tr>\n",
       "      <th>9</th>\n",
       "      <td>4.909091</td>\n",
       "      <td>0.356362</td>\n",
       "    </tr>\n",
       "    <tr>\n",
       "      <th>10</th>\n",
       "      <td>5.083333</td>\n",
       "      <td>0.365722</td>\n",
       "    </tr>\n",
       "    <tr>\n",
       "      <th>11</th>\n",
       "      <td>5.461538</td>\n",
       "      <td>0.337589</td>\n",
       "    </tr>\n",
       "    <tr>\n",
       "      <th>12</th>\n",
       "      <td>5.428571</td>\n",
       "      <td>0.313476</td>\n",
       "    </tr>\n",
       "    <tr>\n",
       "      <th>13</th>\n",
       "      <td>4.866667</td>\n",
       "      <td>0.359759</td>\n",
       "    </tr>\n",
       "  </tbody>\n",
       "</table>\n",
       "</div>"
      ],
      "text/plain": [
       "      scores   entropy\n",
       "0   3.000000  0.343481\n",
       "1   3.666667  0.319091\n",
       "2   4.000000  0.329421\n",
       "3   5.200000  0.358273\n",
       "4   4.666667  0.357665\n",
       "5   4.857143  0.358884\n",
       "6   5.000000  0.359076\n",
       "7   4.888889  0.355461\n",
       "8   5.100000  0.363888\n",
       "9   4.909091  0.356362\n",
       "10  5.083333  0.365722\n",
       "11  5.461538  0.337589\n",
       "12  5.428571  0.313476\n",
       "13  4.866667  0.359759"
      ]
     },
     "execution_count": 7,
     "metadata": {},
     "output_type": "execute_result"
    }
   ],
   "source": [
    "import pandas as pd\n",
    "data = {'scores': scores, 'entropy': entropy}\n",
    "df = pd.DataFrame(data)\n",
    "df"
   ]
  },
  {
   "cell_type": "code",
   "execution_count": 11,
   "metadata": {},
   "outputs": [],
   "source": [
    "import scipy.stats as st\n",
    "import matplotlib.pyplot as plt"
   ]
  },
  {
   "cell_type": "code",
   "execution_count": 12,
   "metadata": {},
   "outputs": [
    {
     "data": {
      "text/plain": [
       "array([[4.86980696e-01, 3.49601187e-03],\n",
       "       [3.49601187e-03, 2.89952269e-04]])"
      ]
     },
     "execution_count": 12,
     "metadata": {},
     "output_type": "execute_result"
    }
   ],
   "source": [
    "co_mat= np.cov(scores,entropy)\n",
    "co_mat"
   ]
  },
  {
   "cell_type": "code",
   "execution_count": 13,
   "metadata": {},
   "outputs": [
    {
     "data": {
      "text/plain": [
       "array([[3.        , 3.66666667, 4.        , 5.2       , 4.66666667,\n",
       "        4.85714286, 5.        , 4.88888889, 5.1       , 4.90909091,\n",
       "        5.08333333, 5.46153846, 5.42857143, 4.86666667],\n",
       "       [0.34348079, 0.31909055, 0.32942127, 0.35827291, 0.35766455,\n",
       "        0.35888448, 0.3590756 , 0.35546144, 0.36388783, 0.3563618 ,\n",
       "        0.36572154, 0.33758911, 0.31347561, 0.3597585 ]])"
      ]
     },
     "execution_count": 13,
     "metadata": {},
     "output_type": "execute_result"
    }
   ],
   "source": [
    "np.stack((scores,entropy),axis = 0)"
   ]
  },
  {
   "cell_type": "code",
   "execution_count": 14,
   "metadata": {},
   "outputs": [],
   "source": [
    "from sklearn.gaussian_process import GaussianProcessRegressor\n",
    "from sklearn.gaussian_process.kernels import RBF, ConstantKernel as C"
   ]
  },
  {
   "cell_type": "code",
   "execution_count": 15,
   "metadata": {},
   "outputs": [],
   "source": [
    "kernel = C(1.0, (1e-3, 1e3)) * RBF(10, (1e-2, 1e2))\n",
    "gp = GaussianProcessRegressor(kernel=kernel, n_restarts_optimizer=9)"
   ]
  },
  {
   "cell_type": "code",
   "execution_count": 16,
   "metadata": {},
   "outputs": [
    {
     "data": {
      "text/plain": [
       "GaussianProcessRegressor(alpha=1e-10, copy_X_train=True,\n",
       "             kernel=1**2 * RBF(length_scale=10), n_restarts_optimizer=9,\n",
       "             normalize_y=False, optimizer='fmin_l_bfgs_b',\n",
       "             random_state=None)"
      ]
     },
     "execution_count": 16,
     "metadata": {},
     "output_type": "execute_result"
    }
   ],
   "source": [
    "gp.fit(df,[1,1,1 ,0,0,1,0,1,0,1,0,1,1,0 ])"
   ]
  },
  {
   "cell_type": "code",
   "execution_count": 17,
   "metadata": {},
   "outputs": [
    {
     "data": {
      "text/plain": [
       "array([ 1.00000000e+00,  1.00000000e+00,  1.00000000e+00, -4.47032692e-66,\n",
       "        4.63256145e-89,  1.00000000e+00,  1.55835081e-28,  1.00000000e+00,\n",
       "        2.71346343e-44,  1.00000000e+00, -1.10665614e-43,  1.00000000e+00,\n",
       "        1.00000000e+00,  1.91675148e-10])"
      ]
     },
     "execution_count": 17,
     "metadata": {},
     "output_type": "execute_result"
    }
   ],
   "source": [
    "y_pred, sigma = gp.predict(df, return_std = True)\n",
    "y_pred"
   ]
  },
  {
   "cell_type": "code",
   "execution_count": 18,
   "metadata": {},
   "outputs": [],
   "source": [
    "import matplotlib.pyplot as plt"
   ]
  },
  {
   "cell_type": "code",
   "execution_count": 19,
   "metadata": {},
   "outputs": [
    {
     "data": {
      "text/plain": [
       "(array([0., 0., 0., 0., 0., 0., 0., 1., 0., 0., 0., 0., 0., 0.]),\n",
       " array([0.5       , 0.57142857, 0.64285714, 0.71428571, 0.78571429,\n",
       "        0.85714286, 0.92857143, 1.        , 1.07142857, 1.14285714,\n",
       "        1.21428571, 1.28571429, 1.35714286, 1.42857143, 1.5       ]),\n",
       " <a list of 14 Patch objects>)"
      ]
     },
     "execution_count": 19,
     "metadata": {},
     "output_type": "execute_result"
    },
    {
     "data": {
      "image/png": "[encoded data removed]",
      "text/plain": [
       "<Figure size 432x288 with 1 Axes>"
      ]
     },
     "metadata": {},
     "output_type": "display_data"
    }
   ],
   "source": [
    "fig = plt.figure()\n",
    "plt.hist(y_pred[1],len(scores),label= y_pred)"
   ]
  },
  {
   "cell_type": "code",
   "execution_count": 20,
   "metadata": {},
   "outputs": [],
   "source": [
    "from sklearn.neighbors import KNeighborsClassifier"
   ]
  },
  {
   "cell_type": "code",
   "execution_count": 30,
   "metadata": {},
   "outputs": [],
   "source": [
    "target = [1,1,1,1,1,1,1,1,0,1,1,1,1,0]"
   ]
  },
  {
   "cell_type": "code",
   "execution_count": 22,
   "metadata": {},
   "outputs": [],
   "source": [
    "clf = KNeighborsClassifier(n_neighbors=1).fit(df,target)"
   ]
  },
  {
   "cell_type": "code",
   "execution_count": 23,
   "metadata": {},
   "outputs": [
    {
     "data": {
      "text/plain": [
       "array([1, 1])"
      ]
     },
     "execution_count": 23,
     "metadata": {},
     "output_type": "execute_result"
    }
   ],
   "source": [
    "clf.predict([[0.36,3],[1,5]])"
   ]
  },
  {
   "cell_type": "code",
   "execution_count": 24,
   "metadata": {},
   "outputs": [
    {
     "data": {
      "text/plain": [
       "1.0"
      ]
     },
     "execution_count": 24,
     "metadata": {},
     "output_type": "execute_result"
    }
   ],
   "source": [
    "clf.score(df,target)   ###### Score of given target label (from user)"
   ]
  },
  {
   "cell_type": "code",
   "execution_count": 29,
   "metadata": {},
   "outputs": [
    {
     "name": "stderr",
     "output_type": "stream",
     "text": [
      "C:\\ProgramData\\Anaconda3\\lib\\site-packages\\ipykernel_launcher.py:1: FutureWarning: pandas.scatter_matrix is deprecated, use pandas.plotting.scatter_matrix instead\n",
      "  \"\"\"Entry point for launching an IPython kernel.\n"
     ]
    },
    {
     "data": {
      "text/plain": [
       "array([[<matplotlib.axes._subplots.AxesSubplot object at 0x0000021C7598B1D0>,\n",
       "        <matplotlib.axes._subplots.AxesSubplot object at 0x0000021C759B4080>],\n",
       "       [<matplotlib.axes._subplots.AxesSubplot object at 0x0000021C759DC6D8>,\n",
       "        <matplotlib.axes._subplots.AxesSubplot object at 0x0000021C75A04D68>]],\n",
       "      dtype=object)"
      ]
     },
     "execution_count": 29,
     "metadata": {},
     "output_type": "execute_result"
    },
    {
     "data": {
      "image/png": "[encoded data removed]",
      "text/plain": [
       "<Figure size 432x432 with 4 Axes>"
      ]
     },
     "metadata": {},
     "output_type": "display_data"
    }
   ],
   "source": [
    "pd.scatter_matrix(df, figsize=(6, 6), diagonal='hist')"
   ]
  },
  {
   "cell_type": "code",
   "execution_count": 26,
   "metadata": {},
   "outputs": [
    {
     "data": {
      "text/plain": [
       "<matplotlib.axes._subplots.AxesSubplot at 0x21c735b2e48>"
      ]
     },
     "execution_count": 26,
     "metadata": {},
     "output_type": "execute_result"
    },
    {
     "data": {
      "image/png": "[encoded data removed]",
      "text/plain": [
       "<Figure size 432x288 with 1 Axes>"
      ]
     },
     "metadata": {},
     "output_type": "display_data"
    }
   ],
   "source": [
    "entropyseries = pd.Series(entropy[x] for x in range(len(entropy)))\n",
    "entropyseries.plot.kde()"
   ]
  }
 ],
 "metadata": {
  "kernelspec": {
   "display_name": "Python 3",
   "language": "python",
   "name": "python3"
  },
  "language_info": {
   "codemirror_mode": {
    "name": "ipython",
    "version": 3
   },
   "file_extension": ".py",
   "mimetype": "text/x-python",
   "name": "python",
   "nbconvert_exporter": "python",
   "pygments_lexer": "ipython3",
   "version": "3.6.5"
  }
 },
 "nbformat": 4,
 "nbformat_minor": 2
}
